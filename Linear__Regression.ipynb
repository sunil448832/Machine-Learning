{
  "nbformat": 4,
  "nbformat_minor": 0,
  "metadata": {
    "kernelspec": {
      "display_name": "Python 3",
      "language": "python",
      "name": "python3"
    },
    "language_info": {
      "codemirror_mode": {
        "name": "ipython",
        "version": 3
      },
      "file_extension": ".py",
      "mimetype": "text/x-python",
      "name": "python",
      "nbconvert_exporter": "python",
      "pygments_lexer": "ipython3",
      "version": "3.8.3"
    },
    "varInspector": {
      "cols": {
        "lenName": 16,
        "lenType": 16,
        "lenVar": 40
      },
      "kernels_config": {
        "python": {
          "delete_cmd_postfix": "",
          "delete_cmd_prefix": "del ",
          "library": "var_list.py",
          "varRefreshCmd": "print(var_dic_list())"
        },
        "r": {
          "delete_cmd_postfix": ") ",
          "delete_cmd_prefix": "rm(",
          "library": "var_list.r",
          "varRefreshCmd": "cat(var_dic_list()) "
        }
      },
      "types_to_exclude": [
        "module",
        "function",
        "builtin_function_or_method",
        "instance",
        "_Feature"
      ],
      "window_display": false
    },
    "colab": {
      "name": "Linear _regression.ipynb",
      "provenance": [],
      "toc_visible": true
    }
  },
  "cells": [
    {
      "cell_type": "code",
      "metadata": {
        "id": "jT6ehcNSi0wb"
      },
      "source": [
        "import pandas as pd\n",
        "import numpy as np\n",
        "%matplotlib inline\n",
        "from matplotlib import pyplot as plt\n",
        "from sklearn.linear_model import LinearRegression\n",
        "from sklearn.metrics import r2_score"
      ],
      "execution_count": 11,
      "outputs": []
    },
    {
      "cell_type": "code",
      "metadata": {
        "colab": {
          "base_uri": "https://localhost:8080/",
          "height": 221
        },
        "id": "MSMSJsDSi0wi",
        "outputId": "d891c606-f7fa-428e-ddd5-af90accc2941"
      },
      "source": [
        "df=pd.read_csv('./car data.csv')\n",
        "print(df.shape)\n",
        "df.head()"
      ],
      "execution_count": 12,
      "outputs": [
        {
          "output_type": "stream",
          "text": [
            "(301, 9)\n"
          ],
          "name": "stdout"
        },
        {
          "output_type": "execute_result",
          "data": {
            "text/html": [
              "<div>\n",
              "<style scoped>\n",
              "    .dataframe tbody tr th:only-of-type {\n",
              "        vertical-align: middle;\n",
              "    }\n",
              "\n",
              "    .dataframe tbody tr th {\n",
              "        vertical-align: top;\n",
              "    }\n",
              "\n",
              "    .dataframe thead th {\n",
              "        text-align: right;\n",
              "    }\n",
              "</style>\n",
              "<table border=\"1\" class=\"dataframe\">\n",
              "  <thead>\n",
              "    <tr style=\"text-align: right;\">\n",
              "      <th></th>\n",
              "      <th>Car_Name</th>\n",
              "      <th>Year</th>\n",
              "      <th>Selling_Price</th>\n",
              "      <th>Present_Price</th>\n",
              "      <th>Kms_Driven</th>\n",
              "      <th>Fuel_Type</th>\n",
              "      <th>Seller_Type</th>\n",
              "      <th>Transmission</th>\n",
              "      <th>Owner</th>\n",
              "    </tr>\n",
              "  </thead>\n",
              "  <tbody>\n",
              "    <tr>\n",
              "      <th>0</th>\n",
              "      <td>ritz</td>\n",
              "      <td>2014</td>\n",
              "      <td>3.35</td>\n",
              "      <td>5.59</td>\n",
              "      <td>27000</td>\n",
              "      <td>Petrol</td>\n",
              "      <td>Dealer</td>\n",
              "      <td>Manual</td>\n",
              "      <td>0</td>\n",
              "    </tr>\n",
              "    <tr>\n",
              "      <th>1</th>\n",
              "      <td>sx4</td>\n",
              "      <td>2013</td>\n",
              "      <td>4.75</td>\n",
              "      <td>9.54</td>\n",
              "      <td>43000</td>\n",
              "      <td>Diesel</td>\n",
              "      <td>Dealer</td>\n",
              "      <td>Manual</td>\n",
              "      <td>0</td>\n",
              "    </tr>\n",
              "    <tr>\n",
              "      <th>2</th>\n",
              "      <td>ciaz</td>\n",
              "      <td>2017</td>\n",
              "      <td>7.25</td>\n",
              "      <td>9.85</td>\n",
              "      <td>6900</td>\n",
              "      <td>Petrol</td>\n",
              "      <td>Dealer</td>\n",
              "      <td>Manual</td>\n",
              "      <td>0</td>\n",
              "    </tr>\n",
              "    <tr>\n",
              "      <th>3</th>\n",
              "      <td>wagon r</td>\n",
              "      <td>2011</td>\n",
              "      <td>2.85</td>\n",
              "      <td>4.15</td>\n",
              "      <td>5200</td>\n",
              "      <td>Petrol</td>\n",
              "      <td>Dealer</td>\n",
              "      <td>Manual</td>\n",
              "      <td>0</td>\n",
              "    </tr>\n",
              "    <tr>\n",
              "      <th>4</th>\n",
              "      <td>swift</td>\n",
              "      <td>2014</td>\n",
              "      <td>4.60</td>\n",
              "      <td>6.87</td>\n",
              "      <td>42450</td>\n",
              "      <td>Diesel</td>\n",
              "      <td>Dealer</td>\n",
              "      <td>Manual</td>\n",
              "      <td>0</td>\n",
              "    </tr>\n",
              "  </tbody>\n",
              "</table>\n",
              "</div>"
            ],
            "text/plain": [
              "  Car_Name  Year  Selling_Price  ...  Seller_Type  Transmission Owner\n",
              "0     ritz  2014           3.35  ...       Dealer        Manual     0\n",
              "1      sx4  2013           4.75  ...       Dealer        Manual     0\n",
              "2     ciaz  2017           7.25  ...       Dealer        Manual     0\n",
              "3  wagon r  2011           2.85  ...       Dealer        Manual     0\n",
              "4    swift  2014           4.60  ...       Dealer        Manual     0\n",
              "\n",
              "[5 rows x 9 columns]"
            ]
          },
          "metadata": {
            "tags": []
          },
          "execution_count": 12
        }
      ]
    },
    {
      "cell_type": "markdown",
      "metadata": {
        "id": "vM02f1boi0wk"
      },
      "source": [
        "## Convert Categorical Data into Numeric"
      ]
    },
    {
      "cell_type": "code",
      "metadata": {
        "colab": {
          "base_uri": "https://localhost:8080/",
          "height": 204
        },
        "id": "noXrfxmzi0wk",
        "outputId": "9426d262-4e51-4748-9dea-e8d14d92b6e4"
      },
      "source": [
        "unique_dict=lambda column:{i:idx for idx,i in enumerate(sorted(column.unique()))}\n",
        "\n",
        "def convert_category_to_numeric(df,culomn_list):\n",
        "    for col in column_list:\n",
        "        dict_=unique_dict(df[col])\n",
        "        df[col]=df[col].apply(lambda x:dict_[x])\n",
        "        \n",
        "    return df\n",
        "\n",
        "column_list=[\"Car_Name\",\"Fuel_Type\",\"Seller_Type\",\"Transmission\"]  \n",
        "df=convert_category_to_numeric(df,column_list)   \n",
        "df.head()"
      ],
      "execution_count": 13,
      "outputs": [
        {
          "output_type": "execute_result",
          "data": {
            "text/html": [
              "<div>\n",
              "<style scoped>\n",
              "    .dataframe tbody tr th:only-of-type {\n",
              "        vertical-align: middle;\n",
              "    }\n",
              "\n",
              "    .dataframe tbody tr th {\n",
              "        vertical-align: top;\n",
              "    }\n",
              "\n",
              "    .dataframe thead th {\n",
              "        text-align: right;\n",
              "    }\n",
              "</style>\n",
              "<table border=\"1\" class=\"dataframe\">\n",
              "  <thead>\n",
              "    <tr style=\"text-align: right;\">\n",
              "      <th></th>\n",
              "      <th>Car_Name</th>\n",
              "      <th>Year</th>\n",
              "      <th>Selling_Price</th>\n",
              "      <th>Present_Price</th>\n",
              "      <th>Kms_Driven</th>\n",
              "      <th>Fuel_Type</th>\n",
              "      <th>Seller_Type</th>\n",
              "      <th>Transmission</th>\n",
              "      <th>Owner</th>\n",
              "    </tr>\n",
              "  </thead>\n",
              "  <tbody>\n",
              "    <tr>\n",
              "      <th>0</th>\n",
              "      <td>90</td>\n",
              "      <td>2014</td>\n",
              "      <td>3.35</td>\n",
              "      <td>5.59</td>\n",
              "      <td>27000</td>\n",
              "      <td>2</td>\n",
              "      <td>0</td>\n",
              "      <td>1</td>\n",
              "      <td>0</td>\n",
              "    </tr>\n",
              "    <tr>\n",
              "      <th>1</th>\n",
              "      <td>93</td>\n",
              "      <td>2013</td>\n",
              "      <td>4.75</td>\n",
              "      <td>9.54</td>\n",
              "      <td>43000</td>\n",
              "      <td>1</td>\n",
              "      <td>0</td>\n",
              "      <td>1</td>\n",
              "      <td>0</td>\n",
              "    </tr>\n",
              "    <tr>\n",
              "      <th>2</th>\n",
              "      <td>68</td>\n",
              "      <td>2017</td>\n",
              "      <td>7.25</td>\n",
              "      <td>9.85</td>\n",
              "      <td>6900</td>\n",
              "      <td>2</td>\n",
              "      <td>0</td>\n",
              "      <td>1</td>\n",
              "      <td>0</td>\n",
              "    </tr>\n",
              "    <tr>\n",
              "      <th>3</th>\n",
              "      <td>96</td>\n",
              "      <td>2011</td>\n",
              "      <td>2.85</td>\n",
              "      <td>4.15</td>\n",
              "      <td>5200</td>\n",
              "      <td>2</td>\n",
              "      <td>0</td>\n",
              "      <td>1</td>\n",
              "      <td>0</td>\n",
              "    </tr>\n",
              "    <tr>\n",
              "      <th>4</th>\n",
              "      <td>92</td>\n",
              "      <td>2014</td>\n",
              "      <td>4.60</td>\n",
              "      <td>6.87</td>\n",
              "      <td>42450</td>\n",
              "      <td>1</td>\n",
              "      <td>0</td>\n",
              "      <td>1</td>\n",
              "      <td>0</td>\n",
              "    </tr>\n",
              "  </tbody>\n",
              "</table>\n",
              "</div>"
            ],
            "text/plain": [
              "   Car_Name  Year  Selling_Price  ...  Seller_Type  Transmission  Owner\n",
              "0        90  2014           3.35  ...            0             1      0\n",
              "1        93  2013           4.75  ...            0             1      0\n",
              "2        68  2017           7.25  ...            0             1      0\n",
              "3        96  2011           2.85  ...            0             1      0\n",
              "4        92  2014           4.60  ...            0             1      0\n",
              "\n",
              "[5 rows x 9 columns]"
            ]
          },
          "metadata": {
            "tags": []
          },
          "execution_count": 13
        }
      ]
    },
    {
      "cell_type": "markdown",
      "metadata": {
        "id": "HKb-sYlEi0wl"
      },
      "source": [
        "## Take Selling_Price as Target to predict and reamining as Features"
      ]
    },
    {
      "cell_type": "code",
      "metadata": {
        "colab": {
          "base_uri": "https://localhost:8080/",
          "height": 204
        },
        "id": "UGpy6rjWi0wl",
        "outputId": "57459ec6-b1af-4fde-c721-420069ea40d2"
      },
      "source": [
        "label_column=[\"Selling_Price\"]\n",
        "feature_columns=[col for col in df.columns if col not in label_column]\n",
        "feature_df=df[feature_columns]\n",
        "label_df=df[label_column]\n",
        "feature_df.head()"
      ],
      "execution_count": 14,
      "outputs": [
        {
          "output_type": "execute_result",
          "data": {
            "text/html": [
              "<div>\n",
              "<style scoped>\n",
              "    .dataframe tbody tr th:only-of-type {\n",
              "        vertical-align: middle;\n",
              "    }\n",
              "\n",
              "    .dataframe tbody tr th {\n",
              "        vertical-align: top;\n",
              "    }\n",
              "\n",
              "    .dataframe thead th {\n",
              "        text-align: right;\n",
              "    }\n",
              "</style>\n",
              "<table border=\"1\" class=\"dataframe\">\n",
              "  <thead>\n",
              "    <tr style=\"text-align: right;\">\n",
              "      <th></th>\n",
              "      <th>Car_Name</th>\n",
              "      <th>Year</th>\n",
              "      <th>Present_Price</th>\n",
              "      <th>Kms_Driven</th>\n",
              "      <th>Fuel_Type</th>\n",
              "      <th>Seller_Type</th>\n",
              "      <th>Transmission</th>\n",
              "      <th>Owner</th>\n",
              "    </tr>\n",
              "  </thead>\n",
              "  <tbody>\n",
              "    <tr>\n",
              "      <th>0</th>\n",
              "      <td>90</td>\n",
              "      <td>2014</td>\n",
              "      <td>5.59</td>\n",
              "      <td>27000</td>\n",
              "      <td>2</td>\n",
              "      <td>0</td>\n",
              "      <td>1</td>\n",
              "      <td>0</td>\n",
              "    </tr>\n",
              "    <tr>\n",
              "      <th>1</th>\n",
              "      <td>93</td>\n",
              "      <td>2013</td>\n",
              "      <td>9.54</td>\n",
              "      <td>43000</td>\n",
              "      <td>1</td>\n",
              "      <td>0</td>\n",
              "      <td>1</td>\n",
              "      <td>0</td>\n",
              "    </tr>\n",
              "    <tr>\n",
              "      <th>2</th>\n",
              "      <td>68</td>\n",
              "      <td>2017</td>\n",
              "      <td>9.85</td>\n",
              "      <td>6900</td>\n",
              "      <td>2</td>\n",
              "      <td>0</td>\n",
              "      <td>1</td>\n",
              "      <td>0</td>\n",
              "    </tr>\n",
              "    <tr>\n",
              "      <th>3</th>\n",
              "      <td>96</td>\n",
              "      <td>2011</td>\n",
              "      <td>4.15</td>\n",
              "      <td>5200</td>\n",
              "      <td>2</td>\n",
              "      <td>0</td>\n",
              "      <td>1</td>\n",
              "      <td>0</td>\n",
              "    </tr>\n",
              "    <tr>\n",
              "      <th>4</th>\n",
              "      <td>92</td>\n",
              "      <td>2014</td>\n",
              "      <td>6.87</td>\n",
              "      <td>42450</td>\n",
              "      <td>1</td>\n",
              "      <td>0</td>\n",
              "      <td>1</td>\n",
              "      <td>0</td>\n",
              "    </tr>\n",
              "  </tbody>\n",
              "</table>\n",
              "</div>"
            ],
            "text/plain": [
              "   Car_Name  Year  Present_Price  ...  Seller_Type  Transmission  Owner\n",
              "0        90  2014           5.59  ...            0             1      0\n",
              "1        93  2013           9.54  ...            0             1      0\n",
              "2        68  2017           9.85  ...            0             1      0\n",
              "3        96  2011           4.15  ...            0             1      0\n",
              "4        92  2014           6.87  ...            0             1      0\n",
              "\n",
              "[5 rows x 8 columns]"
            ]
          },
          "metadata": {
            "tags": []
          },
          "execution_count": 14
        }
      ]
    },
    {
      "cell_type": "markdown",
      "metadata": {
        "id": "tWasRGKdi0wm"
      },
      "source": [
        "## Normalize The Features"
      ]
    },
    {
      "cell_type": "code",
      "metadata": {
        "colab": {
          "base_uri": "https://localhost:8080/",
          "height": 204
        },
        "id": "1fWA6E6Ui0wm",
        "outputId": "fc7b831e-6853-4169-a94a-e18a8004a768"
      },
      "source": [
        "def normalize(df):\n",
        "    df=df.astype(float)\n",
        "    for col in df.columns:\n",
        "        min_=df[col].min()\n",
        "        max_=df[col].max()\n",
        "        df[col]=df[col].apply(lambda x:(x-min_)/(max_-min_))\n",
        "    return df\n",
        "\n",
        "feature_df=normalize(feature_df)\n",
        "feature_df.head()"
      ],
      "execution_count": 15,
      "outputs": [
        {
          "output_type": "execute_result",
          "data": {
            "text/html": [
              "<div>\n",
              "<style scoped>\n",
              "    .dataframe tbody tr th:only-of-type {\n",
              "        vertical-align: middle;\n",
              "    }\n",
              "\n",
              "    .dataframe tbody tr th {\n",
              "        vertical-align: top;\n",
              "    }\n",
              "\n",
              "    .dataframe thead th {\n",
              "        text-align: right;\n",
              "    }\n",
              "</style>\n",
              "<table border=\"1\" class=\"dataframe\">\n",
              "  <thead>\n",
              "    <tr style=\"text-align: right;\">\n",
              "      <th></th>\n",
              "      <th>Car_Name</th>\n",
              "      <th>Year</th>\n",
              "      <th>Present_Price</th>\n",
              "      <th>Kms_Driven</th>\n",
              "      <th>Fuel_Type</th>\n",
              "      <th>Seller_Type</th>\n",
              "      <th>Transmission</th>\n",
              "      <th>Owner</th>\n",
              "    </tr>\n",
              "  </thead>\n",
              "  <tbody>\n",
              "    <tr>\n",
              "      <th>0</th>\n",
              "      <td>0.927835</td>\n",
              "      <td>0.733333</td>\n",
              "      <td>0.057109</td>\n",
              "      <td>0.053053</td>\n",
              "      <td>1.0</td>\n",
              "      <td>0.0</td>\n",
              "      <td>1.0</td>\n",
              "      <td>0.0</td>\n",
              "    </tr>\n",
              "    <tr>\n",
              "      <th>1</th>\n",
              "      <td>0.958763</td>\n",
              "      <td>0.666667</td>\n",
              "      <td>0.099913</td>\n",
              "      <td>0.085085</td>\n",
              "      <td>0.5</td>\n",
              "      <td>0.0</td>\n",
              "      <td>1.0</td>\n",
              "      <td>0.0</td>\n",
              "    </tr>\n",
              "    <tr>\n",
              "      <th>2</th>\n",
              "      <td>0.701031</td>\n",
              "      <td>0.933333</td>\n",
              "      <td>0.103273</td>\n",
              "      <td>0.012813</td>\n",
              "      <td>1.0</td>\n",
              "      <td>0.0</td>\n",
              "      <td>1.0</td>\n",
              "      <td>0.0</td>\n",
              "    </tr>\n",
              "    <tr>\n",
              "      <th>3</th>\n",
              "      <td>0.989691</td>\n",
              "      <td>0.533333</td>\n",
              "      <td>0.041504</td>\n",
              "      <td>0.009409</td>\n",
              "      <td>1.0</td>\n",
              "      <td>0.0</td>\n",
              "      <td>1.0</td>\n",
              "      <td>0.0</td>\n",
              "    </tr>\n",
              "    <tr>\n",
              "      <th>4</th>\n",
              "      <td>0.948454</td>\n",
              "      <td>0.733333</td>\n",
              "      <td>0.070980</td>\n",
              "      <td>0.083984</td>\n",
              "      <td>0.5</td>\n",
              "      <td>0.0</td>\n",
              "      <td>1.0</td>\n",
              "      <td>0.0</td>\n",
              "    </tr>\n",
              "  </tbody>\n",
              "</table>\n",
              "</div>"
            ],
            "text/plain": [
              "   Car_Name      Year  Present_Price  ...  Seller_Type  Transmission  Owner\n",
              "0  0.927835  0.733333       0.057109  ...          0.0           1.0    0.0\n",
              "1  0.958763  0.666667       0.099913  ...          0.0           1.0    0.0\n",
              "2  0.701031  0.933333       0.103273  ...          0.0           1.0    0.0\n",
              "3  0.989691  0.533333       0.041504  ...          0.0           1.0    0.0\n",
              "4  0.948454  0.733333       0.070980  ...          0.0           1.0    0.0\n",
              "\n",
              "[5 rows x 8 columns]"
            ]
          },
          "metadata": {
            "tags": []
          },
          "execution_count": 15
        }
      ]
    },
    {
      "cell_type": "markdown",
      "metadata": {
        "id": "Ufqn_ug_i0wn"
      },
      "source": [
        "## Split Train and Test Data"
      ]
    },
    {
      "cell_type": "code",
      "metadata": {
        "id": "rC0mCfEki0wn"
      },
      "source": [
        "def split(feature_df,label_df,compact_reg=False):\n",
        "    if compact_reg:\n",
        "        feature_df[\"Bias\"]=np.ones(feature_df.shape[0])\n",
        "        \n",
        "    features=feature_df.values\n",
        "    label=label_df.values\n",
        "    X_train,Y_train=features[:int(.7*features.shape[0])],label[:int(.7*features.shape[0])]\n",
        "    X_test,Y_test=features[int(.7*features.shape[0]):],label[int(.7*features.shape[0]):]\n",
        "    \n",
        "    return X_train,Y_train,X_test,Y_test\n"
      ],
      "execution_count": 16,
      "outputs": []
    },
    {
      "cell_type": "code",
      "metadata": {
        "id": "2my9m7XKi0wn"
      },
      "source": [
        "def plot(Y_test,Y_pred):\n",
        "    plt.scatter(range(len(Y_test)),Y_test,  color='red',label=\"Actual data(Y actual)\")\n",
        "    plt.scatter(range(len(Y_pred)),Y_pred, color='green', linewidth=3,label='predicted data(Y predicted)')\n",
        "    plt.legend()\n",
        "    plt.xlabel(\"Data Index\")\n",
        "    plt.ylabel('Output')\n",
        "    plt.title(\"Linear Regration output\")\n",
        "    plt.show()"
      ],
      "execution_count": 17,
      "outputs": []
    },
    {
      "cell_type": "markdown",
      "metadata": {
        "id": "itFNNKKdi0wo"
      },
      "source": [
        "# Algoritm1: Linear Regression from scratch using compact formula\n",
        "\n",
        "![image.png](data:image/png;base64,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)"
      ]
    },
    {
      "cell_type": "code",
      "metadata": {
        "colab": {
          "base_uri": "https://localhost:8080/",
          "height": 329
        },
        "id": "qe860zsVi0wo",
        "outputId": "72ae7008-367e-433a-b382-914c59fc673e"
      },
      "source": [
        "def linear_reg_compact(X_train,Y_train):\n",
        "    X=X_train.T\n",
        "    A=np.dot(X,X.T)\n",
        "    B=np.dot(X,Y_train)\n",
        "\n",
        "    if np.linalg.det(A)==0:\n",
        "        A_inverse= np.linalg.pinv(A)\n",
        "    else:\n",
        "        A_inverse= np.linalg.inv(A)\n",
        "\n",
        "    W=np.dot(A_inverse,B)\n",
        "    \n",
        "    return W\n",
        "\n",
        "X_train,Y_train,X_test,Y_test=split(feature_df,label_df,True)\n",
        "W=linear_reg_compact(X_train,Y_train)\n",
        "\n",
        "Y_pred_comp=np.dot(X_test,W).round(3).reshape(-1)\n",
        "\n",
        "print(\"r2_score:\",r2_score(Y_test,Y_pred_comp).round(2))\n",
        "print('Scatter plot of test and predicted data')\n",
        "plot(Y_test,Y_pred_comp)"
      ],
      "execution_count": 18,
      "outputs": [
        {
          "output_type": "stream",
          "text": [
            "r2_score: 0.78\n",
            "Scatter plot of test and predicted data\n"
          ],
          "name": "stdout"
        },
        {
          "output_type": "display_data",
          "data": {
            "image/png": "[encoded data removed]",
            "text/plain": [
              "<Figure size 432x288 with 1 Axes>"
            ]
          },
          "metadata": {
            "tags": [],
            "needs_background": "light"
          }
        }
      ]
    },
    {
      "cell_type": "markdown",
      "metadata": {
        "id": "htP6oVsXi0wp"
      },
      "source": [
        "# Algorithm2: Linear Regression using sklearn inbuld function"
      ]
    },
    {
      "cell_type": "code",
      "metadata": {
        "colab": {
          "base_uri": "https://localhost:8080/",
          "height": 329
        },
        "id": "WLh-MwxTi0wp",
        "outputId": "efcae222-e871-4ffb-ad1b-13839b672db2"
      },
      "source": [
        "X_train,Y_train,X_test,Y_test=split(feature_df,label_df)\n",
        "reg = LinearRegression().fit(X_train, Y_train)\n",
        "Y_pred_in=reg.predict(X_test).round(3)\n",
        "\n",
        "print(\"r2_score:\",r2_score(Y_test,Y_pred_in).round(2))\n",
        "print('Scatter plot of test and predicted data for inbuld regression')\n",
        "plot(Y_test,Y_pred_in)"
      ],
      "execution_count": 19,
      "outputs": [
        {
          "output_type": "stream",
          "text": [
            "r2_score: 0.78\n",
            "Scatter plot of test and predicted data for inbuld regression\n"
          ],
          "name": "stdout"
        },
        {
          "output_type": "display_data",
          "data": {
            "image/png": "[encoded data removed]",
            "text/plain": [
              "<Figure size 432x288 with 1 Axes>"
            ]
          },
          "metadata": {
            "tags": [],
            "needs_background": "light"
          }
        }
      ]
    },
    {
      "cell_type": "markdown",
      "metadata": {
        "id": "cqRfny52i0wp"
      },
      "source": [
        "# Algorithm3: Linear Regression from scratch using SGD"
      ]
    },
    {
      "cell_type": "code",
      "metadata": {
        "colab": {
          "base_uri": "https://localhost:8080/",
          "height": 574
        },
        "id": "B09ru57Hi0wq",
        "outputId": "ebe7d8a8-fb72-406e-e7e9-8c9fadcba325"
      },
      "source": [
        "def linear_regression_SGD(X_train,Y_train,epochs,lr):\n",
        "    \n",
        "    weight = np.random.normal(0,1,(X_train.shape[1]))\n",
        "    bias= 0#np.random.normal(0,1)\n",
        "    m=X_train.shape[0]\n",
        "    loss_list=[]\n",
        "    for epoch in range(epochs):\n",
        "        \n",
        "        #forward propogation\n",
        "        y=np.dot(X_train,weight)+bias\n",
        "        loss=((y-Y_train)**2).sum()/m\n",
        "        loss_list.append(loss)\n",
        "\n",
        "        #Back propoation\n",
        "        d_loss=2*(y-Y_train)/m\n",
        "        d_weight=np.dot(X_train.T,d_loss)\n",
        "        d_bias=d_loss.sum()\n",
        "        \n",
        "        #weight_update\n",
        "        weight=weight-lr*d_weight\n",
        "        bais=bias-lr*d_bias\n",
        "    \n",
        "    return weight,bias,loss_list\n",
        "\n",
        "epochs=2000\n",
        "lr=.1\n",
        "weight,bias,loss_list=linear_regression_SGD(X_train,Y_train.reshape(-1),epochs,lr)\n",
        "\n",
        "Y_pred_sgd=np.dot(X_test,weight)+bias\n",
        "print(\"r2_score:\",r2_score(Y_test,Y_pred_sgd).round(2))\n",
        "\n",
        "plt.plot(range(epochs),loss_list)\n",
        "plt.xlabel(\"epochs\")\n",
        "plt.ylabel(\"training loss\")\n",
        "plt.show()\n",
        "\n",
        "plot(Y_test,Y_pred_sgd)"
      ],
      "execution_count": 20,
      "outputs": [
        {
          "output_type": "stream",
          "text": [
            "r2_score: 0.75\n"
          ],
          "name": "stdout"
        },
        {
          "output_type": "display_data",
          "data": {
            "image/png": "[encoded data removed]",
            "text/plain": [
              "<Figure size 432x288 with 1 Axes>"
            ]
          },
          "metadata": {
            "tags": [],
            "needs_background": "light"
          }
        },
        {
          "output_type": "display_data",
          "data": {
            "image/png": "[encoded data removed]",
            "text/plain": [
              "<Figure size 432x288 with 1 Axes>"
            ]
          },
          "metadata": {
            "tags": [],
            "needs_background": "light"
          }
        }
      ]
    },
    {
      "cell_type": "markdown",
      "metadata": {
        "id": "_P3Yw5Pui0wq"
      },
      "source": [
        "# Testing avobe three algorithms on 2 dimenstional data "
      ]
    },
    {
      "cell_type": "code",
      "metadata": {
        "colab": {
          "base_uri": "https://localhost:8080/"
        },
        "id": "8yYBTxE7i0wr",
        "outputId": "ef49a092-e17e-46c7-8d9b-8de94e05b1be"
      },
      "source": [
        "def generate_data(beta, n, std_dev):\n",
        "    x = np.arange(0,n,4)\n",
        "    e = np.random.randn(n//4) * std_dev\n",
        "    y = x * beta + e\n",
        "    x=(x-x.min())/(x.max()-x.min())\n",
        "    return x.reshape(-1,1),y\n",
        "\n",
        "x, y = generate_data(10, 100, 50)\n",
        "print(len(x),len(y))"
      ],
      "execution_count": 21,
      "outputs": [
        {
          "output_type": "stream",
          "text": [
            "25 25\n"
          ],
          "name": "stdout"
        }
      ]
    },
    {
      "cell_type": "markdown",
      "metadata": {
        "id": "FoEcVkUNi0wr"
      },
      "source": [
        "## Using Algoritm1"
      ]
    },
    {
      "cell_type": "code",
      "metadata": {
        "colab": {
          "base_uri": "https://localhost:8080/",
          "height": 312
        },
        "id": "slCvgl6hi0wr",
        "outputId": "4eda986a-b07e-4700-a409-f779862916a5"
      },
      "source": [
        "W=linear_reg_compact(x,y)\n",
        "y_comp=np.dot(x,W).round(3).reshape(-1)\n",
        "print(\"r2_score:\",r2_score(y,y_comp).round(2))\n",
        "plot(y,y_comp)"
      ],
      "execution_count": 22,
      "outputs": [
        {
          "output_type": "stream",
          "text": [
            "r2_score: 0.98\n"
          ],
          "name": "stdout"
        },
        {
          "output_type": "display_data",
          "data": {
            "image/png": "[encoded data removed]",
            "text/plain": [
              "<Figure size 432x288 with 1 Axes>"
            ]
          },
          "metadata": {
            "tags": [],
            "needs_background": "light"
          }
        }
      ]
    },
    {
      "cell_type": "markdown",
      "metadata": {
        "id": "IPW6sLbTi0ws"
      },
      "source": [
        "## Using Algoritm2"
      ]
    },
    {
      "cell_type": "code",
      "metadata": {
        "colab": {
          "base_uri": "https://localhost:8080/",
          "height": 312
        },
        "id": "zLVVQgvHi0ws",
        "outputId": "f6b31a52-f176-41f3-9290-0a6bb3b9a63d"
      },
      "source": [
        "reg = LinearRegression().fit(x, y)\n",
        "y_in=reg.predict(x).round(3)\n",
        "print(\"r2_score:\",r2_score(y,y_in).round(2))\n",
        "plot(y,y_in)"
      ],
      "execution_count": 23,
      "outputs": [
        {
          "output_type": "stream",
          "text": [
            "r2_score: 0.98\n"
          ],
          "name": "stdout"
        },
        {
          "output_type": "display_data",
          "data": {
            "image/png": "[encoded data removed]",
            "text/plain": [
              "<Figure size 432x288 with 1 Axes>"
            ]
          },
          "metadata": {
            "tags": [],
            "needs_background": "light"
          }
        }
      ]
    },
    {
      "cell_type": "markdown",
      "metadata": {
        "id": "M4uNLvnAi0wt"
      },
      "source": [
        "## Using Algoritm3"
      ]
    },
    {
      "cell_type": "code",
      "metadata": {
        "colab": {
          "base_uri": "https://localhost:8080/",
          "height": 312
        },
        "id": "fQ6poP-bi0wt",
        "outputId": "714c5a42-556d-4c43-a422-667ef3508420"
      },
      "source": [
        "epochs=500\n",
        "lr=.01\n",
        "weight,bias,loss_list=linear_regression_SGD(x,y,epochs,lr)\n",
        "y_sgd=np.dot(x,weight)+bias\n",
        "print(\"r2_score:\",r2_score(y,y_sgd).round(2))\n",
        "plot(y,y_sgd)"
      ],
      "execution_count": 24,
      "outputs": [
        {
          "output_type": "stream",
          "text": [
            "r2_score: 0.97\n"
          ],
          "name": "stdout"
        },
        {
          "output_type": "display_data",
          "data": {
            "image/png": "[encoded data removed]",
            "text/plain": [
              "<Figure size 432x288 with 1 Axes>"
            ]
          },
          "metadata": {
            "tags": [],
            "needs_background": "light"
          }
        }
      ]
    }
  ]
}